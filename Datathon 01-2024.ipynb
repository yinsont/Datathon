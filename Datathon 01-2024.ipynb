{
 "cells": [
  {
   "cell_type": "code",
   "execution_count": 1,
   "id": "488a2784",
   "metadata": {},
   "outputs": [],
   "source": [
    "import requests\n",
    "import pandas as pd\n",
    "import plotly.express as px\n",
    "import matplotlib.pyplot as plt\n",
    "import folium\n",
    "from folium.plugins import HeatMap\n",
    "import matplotlib.ticker as ticker"
   ]
  },
  {
   "cell_type": "code",
   "execution_count": 2,
   "id": "a53e26e9",
   "metadata": {},
   "outputs": [],
   "source": [
    "# We are using cleaned data in order to make the process quicker\n",
    "df = pd.read_csv(r\"C:\\Users\\Gor088\\Downloads\\311_Service_Requests_2024_Summer - Cleaned.csv\", low_memory=False)"
   ]
  },
  {
   "cell_type": "code",
   "execution_count": null,
   "id": "704eb1d2",
   "metadata": {},
   "outputs": [],
   "source": [
    "df.head()"
   ]
  },
  {
   "cell_type": "code",
   "execution_count": null,
   "id": "bb2764c7",
   "metadata": {},
   "outputs": [],
   "source": [
    "df.columns"
   ]
  },
  {
   "cell_type": "code",
   "execution_count": 5,
   "id": "46462a6a",
   "metadata": {},
   "outputs": [],
   "source": [
    "df = df[['Created Date', 'Agency', 'Complaint Type', 'Descriptor',\n",
    "         'Incident Zip', 'Closed Date', 'Borough',\n",
    "         'Status', 'Latitude', 'Longitude']]"
   ]
  },
  {
   "cell_type": "code",
   "execution_count": null,
   "id": "1a1254bb",
   "metadata": {},
   "outputs": [],
   "source": [
    "df"
   ]
  },
  {
   "cell_type": "code",
   "execution_count": 8,
   "id": "78d94e4c",
   "metadata": {},
   "outputs": [
    {
     "name": "stdout",
     "output_type": "stream",
     "text": [
      "0\n",
      "0\n",
      "0\n",
      "0\n",
      "0\n",
      "0\n",
      "0\n",
      "0\n",
      "0\n",
      "0\n"
     ]
    }
   ],
   "source": [
    "print(df['Created Date'].isna().sum())\n",
    "print(df['Agency'].isna().sum())\n",
    "print(df['Complaint Type'].isna().sum())\n",
    "print(df['Descriptor'].isna().sum())\n",
    "print(df['Incident Zip'].isna().sum())\n",
    "print(df['Closed Date'].isna().sum())\n",
    "print(df['Borough'].isna().sum())\n",
    "print(df['Status'].isna().sum())\n",
    "print(df['Latitude'].isna().sum())\n",
    "print(df['Longitude'].isna().sum())"
   ]
  },
  {
   "cell_type": "code",
   "execution_count": 7,
   "id": "d92b4506",
   "metadata": {},
   "outputs": [],
   "source": [
    "df = df.dropna(subset=['Closed Date'])\n",
    "df = df.dropna(subset=['Incident Zip'])\n",
    "df = df.dropna(subset=['Descriptor'])\n",
    "df = df.dropna(subset=['Longitude'])"
   ]
  },
  {
   "cell_type": "code",
   "execution_count": null,
   "id": "2f3bd7b7",
   "metadata": {},
   "outputs": [],
   "source": [
    "df"
   ]
  },
  {
   "cell_type": "code",
   "execution_count": null,
   "id": "a5e2e1ed",
   "metadata": {},
   "outputs": [],
   "source": [
    "df['Borough'].unique()"
   ]
  },
  {
   "cell_type": "code",
   "execution_count": 11,
   "id": "4a1caa7b",
   "metadata": {},
   "outputs": [],
   "source": [
    "df = df[df['Borough'] != 'Unspecified']"
   ]
  },
  {
   "cell_type": "code",
   "execution_count": 12,
   "id": "60753643",
   "metadata": {},
   "outputs": [],
   "source": [
    "#df['Status'].unique()"
   ]
  },
  {
   "cell_type": "code",
   "execution_count": 13,
   "id": "71427f04",
   "metadata": {},
   "outputs": [],
   "source": [
    "#df['Status'].value_counts()"
   ]
  },
  {
   "cell_type": "code",
   "execution_count": 14,
   "id": "5e22e195",
   "metadata": {},
   "outputs": [],
   "source": [
    "#df = df[df['Status'] == 'Closed']"
   ]
  },
  {
   "cell_type": "code",
   "execution_count": 15,
   "id": "2446cfba",
   "metadata": {},
   "outputs": [],
   "source": [
    "df = df.reset_index(drop=True)"
   ]
  },
  {
   "cell_type": "code",
   "execution_count": 16,
   "id": "e35a9b39",
   "metadata": {},
   "outputs": [],
   "source": [
    "df['Created Date'] = pd.to_datetime(df['Created Date'])\n",
    "df['Closed Date'] = pd.to_datetime(df['Closed Date'])\n",
    "df['Resolution Time'] = (df['Closed Date'] - df['Created Date']).dt.total_seconds() / 60\n",
    "df['Incident Zip'] = df['Incident Zip'].astype(int)"
   ]
  },
  {
   "cell_type": "code",
   "execution_count": 17,
   "id": "f9be7dab",
   "metadata": {},
   "outputs": [
    {
     "data": {
      "text/html": [
       "<div>\n",
       "<style scoped>\n",
       "    .dataframe tbody tr th:only-of-type {\n",
       "        vertical-align: middle;\n",
       "    }\n",
       "\n",
       "    .dataframe tbody tr th {\n",
       "        vertical-align: top;\n",
       "    }\n",
       "\n",
       "    .dataframe thead th {\n",
       "        text-align: right;\n",
       "    }\n",
       "</style>\n",
       "<table border=\"1\" class=\"dataframe\">\n",
       "  <thead>\n",
       "    <tr style=\"text-align: right;\">\n",
       "      <th></th>\n",
       "      <th>Created Date</th>\n",
       "      <th>Agency</th>\n",
       "      <th>Complaint Type</th>\n",
       "      <th>Descriptor</th>\n",
       "      <th>Incident Zip</th>\n",
       "      <th>Closed Date</th>\n",
       "      <th>Borough</th>\n",
       "      <th>Status</th>\n",
       "      <th>Latitude</th>\n",
       "      <th>Longitude</th>\n",
       "      <th>Resolution Time</th>\n",
       "    </tr>\n",
       "  </thead>\n",
       "  <tbody>\n",
       "    <tr>\n",
       "      <th>0</th>\n",
       "      <td>2024-08-31 02:57:45</td>\n",
       "      <td>NYPD</td>\n",
       "      <td>Noise - Residential</td>\n",
       "      <td>Banging/Pounding</td>\n",
       "      <td>11694</td>\n",
       "      <td>2024-08-31 03:17:19</td>\n",
       "      <td>QUEENS</td>\n",
       "      <td>Closed</td>\n",
       "      <td>40.585700</td>\n",
       "      <td>-73.820281</td>\n",
       "      <td>19.566667</td>\n",
       "    </tr>\n",
       "    <tr>\n",
       "      <th>1</th>\n",
       "      <td>2024-08-31 02:57:27</td>\n",
       "      <td>NYPD</td>\n",
       "      <td>Noise - Commercial</td>\n",
       "      <td>Loud Music/Party</td>\n",
       "      <td>10003</td>\n",
       "      <td>2024-08-31 03:02:05</td>\n",
       "      <td>MANHATTAN</td>\n",
       "      <td>Closed</td>\n",
       "      <td>40.738878</td>\n",
       "      <td>-73.989835</td>\n",
       "      <td>4.633333</td>\n",
       "    </tr>\n",
       "    <tr>\n",
       "      <th>2</th>\n",
       "      <td>2024-08-31 02:57:26</td>\n",
       "      <td>NYPD</td>\n",
       "      <td>Noise - Street/Sidewalk</td>\n",
       "      <td>Loud Music/Party</td>\n",
       "      <td>10468</td>\n",
       "      <td>2024-08-31 05:05:51</td>\n",
       "      <td>BRONX</td>\n",
       "      <td>Closed</td>\n",
       "      <td>40.866882</td>\n",
       "      <td>-73.909779</td>\n",
       "      <td>128.416667</td>\n",
       "    </tr>\n",
       "    <tr>\n",
       "      <th>3</th>\n",
       "      <td>2024-08-31 02:57:03</td>\n",
       "      <td>NYPD</td>\n",
       "      <td>Noise - Commercial</td>\n",
       "      <td>Loud Music/Party</td>\n",
       "      <td>10003</td>\n",
       "      <td>2024-08-31 03:02:06</td>\n",
       "      <td>MANHATTAN</td>\n",
       "      <td>Closed</td>\n",
       "      <td>40.738878</td>\n",
       "      <td>-73.989835</td>\n",
       "      <td>5.050000</td>\n",
       "    </tr>\n",
       "    <tr>\n",
       "      <th>4</th>\n",
       "      <td>2024-08-31 02:56:29</td>\n",
       "      <td>NYPD</td>\n",
       "      <td>Noise - Commercial</td>\n",
       "      <td>Loud Music/Party</td>\n",
       "      <td>11205</td>\n",
       "      <td>2024-08-31 03:29:12</td>\n",
       "      <td>BROOKLYN</td>\n",
       "      <td>Closed</td>\n",
       "      <td>40.694764</td>\n",
       "      <td>-73.954620</td>\n",
       "      <td>32.716667</td>\n",
       "    </tr>\n",
       "    <tr>\n",
       "      <th>...</th>\n",
       "      <td>...</td>\n",
       "      <td>...</td>\n",
       "      <td>...</td>\n",
       "      <td>...</td>\n",
       "      <td>...</td>\n",
       "      <td>...</td>\n",
       "      <td>...</td>\n",
       "      <td>...</td>\n",
       "      <td>...</td>\n",
       "      <td>...</td>\n",
       "      <td>...</td>\n",
       "    </tr>\n",
       "    <tr>\n",
       "      <th>802618</th>\n",
       "      <td>2024-06-01 02:59:02</td>\n",
       "      <td>DOHMH</td>\n",
       "      <td>Rodent</td>\n",
       "      <td>Rat Sighting</td>\n",
       "      <td>11213</td>\n",
       "      <td>2024-06-01 02:59:02</td>\n",
       "      <td>BROOKLYN</td>\n",
       "      <td>Closed</td>\n",
       "      <td>40.669989</td>\n",
       "      <td>-73.935729</td>\n",
       "      <td>0.000000</td>\n",
       "    </tr>\n",
       "    <tr>\n",
       "      <th>802619</th>\n",
       "      <td>2024-06-01 02:58:56</td>\n",
       "      <td>NYPD</td>\n",
       "      <td>Noise - Commercial</td>\n",
       "      <td>Loud Music/Party</td>\n",
       "      <td>10013</td>\n",
       "      <td>2024-06-01 03:02:39</td>\n",
       "      <td>MANHATTAN</td>\n",
       "      <td>Closed</td>\n",
       "      <td>40.719643</td>\n",
       "      <td>-74.002247</td>\n",
       "      <td>3.716667</td>\n",
       "    </tr>\n",
       "    <tr>\n",
       "      <th>802620</th>\n",
       "      <td>2024-06-01 02:58:41</td>\n",
       "      <td>NYPD</td>\n",
       "      <td>Noise - Street/Sidewalk</td>\n",
       "      <td>Loud Music/Party</td>\n",
       "      <td>10454</td>\n",
       "      <td>2024-06-01 03:03:05</td>\n",
       "      <td>BRONX</td>\n",
       "      <td>Closed</td>\n",
       "      <td>40.806321</td>\n",
       "      <td>-73.918440</td>\n",
       "      <td>4.400000</td>\n",
       "    </tr>\n",
       "    <tr>\n",
       "      <th>802621</th>\n",
       "      <td>2024-06-01 02:58:17</td>\n",
       "      <td>NYPD</td>\n",
       "      <td>Noise - Residential</td>\n",
       "      <td>Loud Music/Party</td>\n",
       "      <td>11225</td>\n",
       "      <td>2024-06-01 03:41:33</td>\n",
       "      <td>BROOKLYN</td>\n",
       "      <td>Closed</td>\n",
       "      <td>40.656713</td>\n",
       "      <td>-73.953107</td>\n",
       "      <td>43.266667</td>\n",
       "    </tr>\n",
       "    <tr>\n",
       "      <th>802622</th>\n",
       "      <td>2024-06-01 02:58:05</td>\n",
       "      <td>NYPD</td>\n",
       "      <td>Noise - Residential</td>\n",
       "      <td>Loud Music/Party</td>\n",
       "      <td>10009</td>\n",
       "      <td>2024-06-01 03:10:08</td>\n",
       "      <td>MANHATTAN</td>\n",
       "      <td>Closed</td>\n",
       "      <td>40.726257</td>\n",
       "      <td>-73.983400</td>\n",
       "      <td>12.050000</td>\n",
       "    </tr>\n",
       "  </tbody>\n",
       "</table>\n",
       "<p>802623 rows × 11 columns</p>\n",
       "</div>"
      ],
      "text/plain": [
       "              Created Date Agency           Complaint Type        Descriptor  \\\n",
       "0      2024-08-31 02:57:45   NYPD      Noise - Residential  Banging/Pounding   \n",
       "1      2024-08-31 02:57:27   NYPD       Noise - Commercial  Loud Music/Party   \n",
       "2      2024-08-31 02:57:26   NYPD  Noise - Street/Sidewalk  Loud Music/Party   \n",
       "3      2024-08-31 02:57:03   NYPD       Noise - Commercial  Loud Music/Party   \n",
       "4      2024-08-31 02:56:29   NYPD       Noise - Commercial  Loud Music/Party   \n",
       "...                    ...    ...                      ...               ...   \n",
       "802618 2024-06-01 02:59:02  DOHMH                   Rodent      Rat Sighting   \n",
       "802619 2024-06-01 02:58:56   NYPD       Noise - Commercial  Loud Music/Party   \n",
       "802620 2024-06-01 02:58:41   NYPD  Noise - Street/Sidewalk  Loud Music/Party   \n",
       "802621 2024-06-01 02:58:17   NYPD      Noise - Residential  Loud Music/Party   \n",
       "802622 2024-06-01 02:58:05   NYPD      Noise - Residential  Loud Music/Party   \n",
       "\n",
       "        Incident Zip         Closed Date    Borough  Status   Latitude  \\\n",
       "0              11694 2024-08-31 03:17:19     QUEENS  Closed  40.585700   \n",
       "1              10003 2024-08-31 03:02:05  MANHATTAN  Closed  40.738878   \n",
       "2              10468 2024-08-31 05:05:51      BRONX  Closed  40.866882   \n",
       "3              10003 2024-08-31 03:02:06  MANHATTAN  Closed  40.738878   \n",
       "4              11205 2024-08-31 03:29:12   BROOKLYN  Closed  40.694764   \n",
       "...              ...                 ...        ...     ...        ...   \n",
       "802618         11213 2024-06-01 02:59:02   BROOKLYN  Closed  40.669989   \n",
       "802619         10013 2024-06-01 03:02:39  MANHATTAN  Closed  40.719643   \n",
       "802620         10454 2024-06-01 03:03:05      BRONX  Closed  40.806321   \n",
       "802621         11225 2024-06-01 03:41:33   BROOKLYN  Closed  40.656713   \n",
       "802622         10009 2024-06-01 03:10:08  MANHATTAN  Closed  40.726257   \n",
       "\n",
       "        Longitude  Resolution Time  \n",
       "0      -73.820281        19.566667  \n",
       "1      -73.989835         4.633333  \n",
       "2      -73.909779       128.416667  \n",
       "3      -73.989835         5.050000  \n",
       "4      -73.954620        32.716667  \n",
       "...           ...              ...  \n",
       "802618 -73.935729         0.000000  \n",
       "802619 -74.002247         3.716667  \n",
       "802620 -73.918440         4.400000  \n",
       "802621 -73.953107        43.266667  \n",
       "802622 -73.983400        12.050000  \n",
       "\n",
       "[802623 rows x 11 columns]"
      ]
     },
     "execution_count": 17,
     "metadata": {},
     "output_type": "execute_result"
    }
   ],
   "source": [
    "df"
   ]
  },
  {
   "cell_type": "code",
   "execution_count": null,
   "id": "dd07992f",
   "metadata": {},
   "outputs": [],
   "source": [
    "plt.figure(figsize=(10, 6))\n",
    "df['Borough'].value_counts().plot(kind='bar', title='Complaints by Borough')\n",
    "plt.show()"
   ]
  },
  {
   "cell_type": "code",
   "execution_count": null,
   "id": "76a4583c",
   "metadata": {},
   "outputs": [],
   "source": [
    "average_resolution_time_per_agency = df.groupby('Borough')['Resolution Time'].mean().sort_values(ascending=False)\n",
    "\n",
    "plt.figure(figsize=(10, 6))\n",
    "average_resolution_time_per_agency.plot(kind='bar', title='Average Resolution Time Per Borough')\n",
    "\n",
    "plt.xlabel('Borough')\n",
    "plt.ylabel('Average Resolution Time (minutes)')\n",
    "\n",
    "plt.show()"
   ]
  },
  {
   "cell_type": "code",
   "execution_count": null,
   "id": "6748b312",
   "metadata": {
    "scrolled": false
   },
   "outputs": [],
   "source": [
    "# top 10 most common complaint types\n",
    "top_complaints = df['Complaint Type'].value_counts().head(10)\n",
    "\n",
    "plt.figure(figsize=(10, 6))\n",
    "top_complaints.plot(kind='bar', title='Most Common Complaints')\n",
    "\n",
    "plt.show()"
   ]
  },
  {
   "cell_type": "code",
   "execution_count": null,
   "id": "2f2ba716",
   "metadata": {},
   "outputs": [],
   "source": [
    "top_agencie = df['Agency'].value_counts().head(10)\n",
    "\n",
    "plt.figure(figsize=(10, 6))\n",
    "top_agencie.plot(kind='bar', title = 'Most Complaints by Agency')\n",
    "\n",
    "plt.show()"
   ]
  },
  {
   "cell_type": "code",
   "execution_count": null,
   "id": "172704eb",
   "metadata": {},
   "outputs": [],
   "source": [
    "average_resolution_time_per_agency = df.groupby('Agency')['Resolution Time'].mean().sort_values(ascending=False)\n",
    "\n",
    "plt.figure(figsize=(10, 6))\n",
    "average_resolution_time_per_agency.plot(kind='bar', title='Average Resolution Time Per Agency')\n",
    "\n",
    "plt.xlabel('Agency')\n",
    "plt.ylabel('Average Resolution Time (minutes)')\n",
    "\n",
    "plt.show()"
   ]
  },
  {
   "cell_type": "code",
   "execution_count": null,
   "id": "43bb968b",
   "metadata": {},
   "outputs": [],
   "source": [
    "m = folium.Map(location=[40.73, -73.92], zoom_start=8)\n",
    "\n",
    "# Prepare data for HeatMap (each entry: [latitude, longitude, intensity])\n",
    "heat_data = [[row['Latitude'], row['Longitude'], 1] for index, row in df.iterrows()]  # Each point is treated with intensity 1\n",
    "\n",
    "# Add heat map to the folium map\n",
    "HeatMap(heat_data).add_to(m)\n",
    "\n",
    "# If you're in a Jupyter notebook, just display the map\n",
    "m"
   ]
  },
  {
   "cell_type": "code",
   "execution_count": null,
   "id": "16d8cad1",
   "metadata": {},
   "outputs": [],
   "source": [
    "top_5_agencies = df['Agency'].value_counts().head(5).index\n",
    "\n",
    "df_top5 = df[df['Agency'].isin(top_5_agencies)].copy()\n",
    "\n",
    "df_top5.loc[:, 'Hour'] = pd.to_datetime(df_top5['Created Date']).dt.hour\n",
    "\n",
    "calls_by_hour_agency = df_top5.groupby(['Hour', 'Agency']).size().reset_index(name='total_calls')\n",
    "\n",
    "pivot_calls = calls_by_hour_agency.pivot(index='Hour', columns='Agency', values='total_calls')\n",
    "\n",
    "plt.figure(figsize=(12, 6))\n",
    "pivot_calls.plot(kind='bar', stacked=True, figsize=(12, 6))\n",
    "plt.title('Total Calls by Hour and Top 5 Agencies')\n",
    "plt.xlabel('Hour of the Day')\n",
    "plt.ylabel('Total Calls')\n",
    "plt.legend(title='Agency', bbox_to_anchor=(1.05, 1), loc='upper left')\n",
    "plt.tight_layout()\n",
    "plt.show()"
   ]
  },
  {
   "cell_type": "code",
   "execution_count": null,
   "id": "2a2483e2",
   "metadata": {},
   "outputs": [],
   "source": [
    "pivot_calls = calls_by_hour_agency.pivot(index='Hour', columns='Agency', values='total_calls').fillna(0)\n",
    "\n",
    "plt.figure(figsize=(12, 6))\n",
    "pivot_calls.plot(kind='area', stacked=True, alpha=0.8)\n",
    "\n",
    "plt.title('Total Calls by Hour and Top 5 Agencies (Stacked Area Plot)')\n",
    "plt.xlabel('Hour of the Day')\n",
    "plt.ylabel('Total Calls')\n",
    "plt.tight_layout()\n",
    "plt.show()"
   ]
  },
  {
   "cell_type": "code",
   "execution_count": 25,
   "id": "75dc160d",
   "metadata": {},
   "outputs": [],
   "source": [
    "# df.to_csv('311_Service_Requests_2024_Summer.csv', index=False)"
   ]
  },
  {
   "cell_type": "code",
   "execution_count": null,
   "id": "4185064e",
   "metadata": {},
   "outputs": [],
   "source": []
  }
 ],
 "metadata": {
  "kernelspec": {
   "display_name": "Python 3 (ipykernel)",
   "language": "python",
   "name": "python3"
  },
  "language_info": {
   "codemirror_mode": {
    "name": "ipython",
    "version": 3
   },
   "file_extension": ".py",
   "mimetype": "text/x-python",
   "name": "python",
   "nbconvert_exporter": "python",
   "pygments_lexer": "ipython3",
   "version": "3.9.7"
  }
 },
 "nbformat": 4,
 "nbformat_minor": 5
}
