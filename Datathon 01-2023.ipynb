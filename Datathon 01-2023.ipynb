{
 "cells": [
  {
   "cell_type": "code",
   "execution_count": 1,
   "id": "488a2784",
   "metadata": {},
   "outputs": [],
   "source": [
    "import requests\n",
    "import pandas as pd\n",
    "import plotly.express as px\n",
    "import matplotlib.pyplot as plt\n",
    "import folium\n",
    "from folium.plugins import HeatMap\n",
    "import matplotlib.ticker as ticker"
   ]
  },
  {
   "cell_type": "code",
   "execution_count": 2,
   "id": "a53e26e9",
   "metadata": {},
   "outputs": [],
   "source": [
    "# We are using cleaned data in order to make the process quicker\n",
    "df = pd.read_csv(r\"C:\\Users\\Gor088\\Downloads\\311_Service_Requests_2023_Summer - Cleaned.csv\", low_memory=False)"
   ]
  },
  {
   "cell_type": "code",
   "execution_count": null,
   "id": "704eb1d2",
   "metadata": {},
   "outputs": [],
   "source": [
    "df.head()"
   ]
  },
  {
   "cell_type": "code",
   "execution_count": null,
   "id": "bb2764c7",
   "metadata": {},
   "outputs": [],
   "source": [
    "df.columns"
   ]
  },
  {
   "cell_type": "code",
   "execution_count": 5,
   "id": "46462a6a",
   "metadata": {},
   "outputs": [],
   "source": [
    "df = df[['Created Date', 'Agency', 'Complaint Type', 'Descriptor',\n",
    "         'Incident Zip', 'Closed Date', 'Borough',\n",
    "         'Status', 'Latitude', 'Longitude']]"
   ]
  },
  {
   "cell_type": "code",
   "execution_count": null,
   "id": "1a1254bb",
   "metadata": {},
   "outputs": [],
   "source": [
    "df"
   ]
  },
  {
   "cell_type": "code",
   "execution_count": null,
   "id": "78d94e4c",
   "metadata": {},
   "outputs": [],
   "source": [
    "print(df['Created Date'].isna().sum())\n",
    "print(df['Agency'].isna().sum())\n",
    "print(df['Complaint Type'].isna().sum())\n",
    "print(df['Descriptor'].isna().sum())\n",
    "print(df['Incident Zip'].isna().sum())\n",
    "print(df['Closed Date'].isna().sum())\n",
    "print(df['Borough'].isna().sum())\n",
    "print(df['Status'].isna().sum())\n",
    "print(df['Latitude'].isna().sum())\n",
    "print(df['Longitude'].isna().sum())"
   ]
  },
  {
   "cell_type": "code",
   "execution_count": 8,
   "id": "d92b4506",
   "metadata": {},
   "outputs": [],
   "source": [
    "df = df.dropna(subset=['Closed Date'])\n",
    "df = df.dropna(subset=['Incident Zip'])\n",
    "df = df.dropna(subset=['Descriptor'])\n",
    "df = df.dropna(subset=['Longitude'])"
   ]
  },
  {
   "cell_type": "code",
   "execution_count": null,
   "id": "2f3bd7b7",
   "metadata": {},
   "outputs": [],
   "source": [
    "df"
   ]
  },
  {
   "cell_type": "code",
   "execution_count": null,
   "id": "a5e2e1ed",
   "metadata": {},
   "outputs": [],
   "source": [
    "df['Borough'].unique()"
   ]
  },
  {
   "cell_type": "code",
   "execution_count": 12,
   "id": "4a1caa7b",
   "metadata": {},
   "outputs": [],
   "source": [
    "df = df[df['Borough'] != 'Unspecified']"
   ]
  },
  {
   "cell_type": "code",
   "execution_count": 13,
   "id": "60753643",
   "metadata": {},
   "outputs": [],
   "source": [
    "#df['Status'].unique()"
   ]
  },
  {
   "cell_type": "code",
   "execution_count": 14,
   "id": "71427f04",
   "metadata": {},
   "outputs": [],
   "source": [
    "#df['Status'].value_counts()"
   ]
  },
  {
   "cell_type": "code",
   "execution_count": 15,
   "id": "5e22e195",
   "metadata": {},
   "outputs": [],
   "source": [
    "#df = df[df['Status'] == 'Closed']"
   ]
  },
  {
   "cell_type": "code",
   "execution_count": 16,
   "id": "2446cfba",
   "metadata": {},
   "outputs": [],
   "source": [
    "df = df.reset_index(drop=True)"
   ]
  },
  {
   "cell_type": "code",
   "execution_count": null,
   "id": "b6b99f0d",
   "metadata": {},
   "outputs": [],
   "source": [
    "df['Created Date'] = pd.to_datetime(df['Created Date'])\n",
    "df['Closed Date'] = pd.to_datetime(df['Closed Date'])\n",
    "df['Resolution Time'] = (df['Closed Date'] - df['Created Date']).dt.total_seconds() / 60\n",
    "df['Incident Zip'] = df['Incident Zip'].astype(int)"
   ]
  },
  {
   "cell_type": "code",
   "execution_count": null,
   "id": "f9be7dab",
   "metadata": {},
   "outputs": [],
   "source": [
    "df"
   ]
  },
  {
   "cell_type": "code",
   "execution_count": null,
   "id": "fc160483",
   "metadata": {},
   "outputs": [],
   "source": [
    "plt.figure(figsize=(10, 6))\n",
    "df['Borough'].value_counts().plot(kind='bar', title='Complaints by Borough')\n",
    "plt.show()"
   ]
  },
  {
   "cell_type": "code",
   "execution_count": null,
   "id": "1245b1a3",
   "metadata": {},
   "outputs": [],
   "source": [
    "average_resolution_time_per_agency = df.groupby('Borough')['Resolution Time'].mean().sort_values(ascending=False)\n",
    "\n",
    "plt.figure(figsize=(10, 6))\n",
    "average_resolution_time_per_agency.plot(kind='bar', title='Average Resolution Time Per Borough')\n",
    "\n",
    "plt.xlabel('Borough')\n",
    "plt.ylabel('Average Resolution Time (minutes)')\n",
    "\n",
    "plt.show()"
   ]
  },
  {
   "cell_type": "code",
   "execution_count": null,
   "id": "17f1e5cd",
   "metadata": {},
   "outputs": [],
   "source": [
    "# top 10 most common complaint types\n",
    "top_complaints = df['Complaint Type'].value_counts().head(10)\n",
    "\n",
    "plt.figure(figsize=(10, 6))\n",
    "top_complaints.plot(kind='bar', title='Most Common Complaints')\n",
    "\n",
    "plt.show()"
   ]
  },
  {
   "cell_type": "code",
   "execution_count": null,
   "id": "e9c96622",
   "metadata": {},
   "outputs": [],
   "source": [
    "average_resolution_time_per_agency = df.groupby('Agency')['Resolution Time'].mean().sort_values(ascending=False)\n",
    "\n",
    "plt.figure(figsize=(10, 6))\n",
    "average_resolution_time_per_agency.plot(kind='bar', title='Average Resolution Time Per Agency')\n",
    "\n",
    "plt.xlabel('Agency')\n",
    "plt.ylabel('Average Resolution Time (minutes)')\n",
    "\n",
    "plt.show()"
   ]
  },
  {
   "cell_type": "code",
   "execution_count": null,
   "id": "6748b312",
   "metadata": {},
   "outputs": [],
   "source": [
    "# top 10 most common complaint types\n",
    "top_complaints = df['Complaint Type'].value_counts().head(10)\n",
    "\n",
    "plt.figure(figsize=(10, 6))\n",
    "top_complaints.plot(kind='bar', title='Most Common Complaints')\n",
    "\n",
    "plt.show()"
   ]
  },
  {
   "cell_type": "code",
   "execution_count": null,
   "id": "55736024",
   "metadata": {},
   "outputs": [],
   "source": [
    "top_agencie = df['Agency'].value_counts().head(10)\n",
    "\n",
    "plt.figure(figsize=(10, 6))\n",
    "top_agencie.plot(kind='bar', title = 'Most Complaints by Agency')\n",
    "\n",
    "plt.show()"
   ]
  },
  {
   "cell_type": "code",
   "execution_count": null,
   "id": "769a19ec",
   "metadata": {},
   "outputs": [],
   "source": [
    "average_resolution_time_per_agency = df.groupby('Agency')['Resolution Time'].mean().sort_values(ascending=False)\n",
    "\n",
    "plt.figure(figsize=(10, 6))\n",
    "average_resolution_time_per_agency.plot(kind='bar', title='Average Resolution Time by Agency')\n",
    "\n",
    "plt.xlabel('Agency')\n",
    "plt.ylabel('Average Resolution Time (minutes)')\n",
    "\n",
    "plt.show()"
   ]
  },
  {
   "cell_type": "code",
   "execution_count": null,
   "id": "43bb968b",
   "metadata": {},
   "outputs": [],
   "source": [
    "m = folium.Map(location=[40.73, -73.92], zoom_start=8)\n",
    "\n",
    "# Prepare data for HeatMap (each entry: [latitude, longitude, intensity])\n",
    "heat_data = [[row['Latitude'], row['Longitude'], 1] for index, row in df.iterrows()]  # Each point is treated with intensity 1\n",
    "\n",
    "# Add heat map to the folium map\n",
    "HeatMap(heat_data).add_to(m)\n",
    "\n",
    "# If you're in a Jupyter notebook, just display the map\n",
    "m"
   ]
  },
  {
   "cell_type": "code",
   "execution_count": null,
   "id": "16d8cad1",
   "metadata": {},
   "outputs": [],
   "source": [
    "top_5_agencies = df['Agency'].value_counts().head(5).index\n",
    "\n",
    "df_top5 = df[df['Agency'].isin(top_5_agencies)].copy()\n",
    "\n",
    "df_top5.loc[:, 'Hour'] = pd.to_datetime(df_top5['Created Date']).dt.hour\n",
    "\n",
    "calls_by_hour_agency = df_top5.groupby(['Hour', 'Agency']).size().reset_index(name='total_calls')\n",
    "\n",
    "pivot_calls = calls_by_hour_agency.pivot(index='Hour', columns='Agency', values='total_calls')\n",
    "\n",
    "plt.figure(figsize=(12, 6))\n",
    "pivot_calls.plot(kind='bar', stacked=True, figsize=(12, 6))\n",
    "plt.title('Total Calls by Hour and Top 5 Agencies')\n",
    "plt.xlabel('Hour of the Day')\n",
    "plt.ylabel('Total Calls')\n",
    "plt.legend(title='Agency', bbox_to_anchor=(1.05, 1), loc='upper left')\n",
    "plt.tight_layout()\n",
    "plt.show()"
   ]
  },
  {
   "cell_type": "code",
   "execution_count": null,
   "id": "2a2483e2",
   "metadata": {},
   "outputs": [],
   "source": [
    "pivot_calls = calls_by_hour_agency.pivot(index='Hour', columns='Agency', values='total_calls').fillna(0)\n",
    "\n",
    "plt.figure(figsize=(12, 6))\n",
    "pivot_calls.plot(kind='area', stacked=True, alpha=0.8)\n",
    "\n",
    "plt.title('Total Calls by Hour and Top 5 Agencies (Stacked Area Plot)')\n",
    "plt.xlabel('Hour of the Day')\n",
    "plt.ylabel('Total Calls')\n",
    "plt.tight_layout()\n",
    "plt.show()"
   ]
  },
  {
   "cell_type": "code",
   "execution_count": 26,
   "id": "75dc160d",
   "metadata": {},
   "outputs": [],
   "source": [
    "# df.to_csv('311_Service_Requests_2023_Summer.csv', index=False)"
   ]
  },
  {
   "cell_type": "code",
   "execution_count": null,
   "id": "4185064e",
   "metadata": {},
   "outputs": [],
   "source": []
  }
 ],
 "metadata": {
  "kernelspec": {
   "display_name": "Python 3 (ipykernel)",
   "language": "python",
   "name": "python3"
  },
  "language_info": {
   "codemirror_mode": {
    "name": "ipython",
    "version": 3
   },
   "file_extension": ".py",
   "mimetype": "text/x-python",
   "name": "python",
   "nbconvert_exporter": "python",
   "pygments_lexer": "ipython3",
   "version": "3.9.7"
  }
 },
 "nbformat": 4,
 "nbformat_minor": 5
}
